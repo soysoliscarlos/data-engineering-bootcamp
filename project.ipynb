{
 "cells": [
  {
   "cell_type": "markdown",
   "metadata": {},
   "source": [
    "# Report of Exploratory Analysis for the Customer Service team at Profeco"
   ]
  },
  {
   "cell_type": "code",
   "execution_count": 21,
   "metadata": {},
   "outputs": [],
   "source": [
    "# Import libraries\n",
    "import pandas"
   ]
  },
  {
   "cell_type": "code",
   "execution_count": 22,
   "metadata": {},
   "outputs": [],
   "source": [
    "# Import datafile\n",
    "df = pandas.read_csv(r'data\\sample.csv', dtype='unicode')"
   ]
  },
  {
   "cell_type": "markdown",
   "metadata": {},
   "source": [
    "## How many commercial chains are monitored, and therefore, included in this database?"
   ]
  },
  {
   "cell_type": "code",
   "execution_count": 23,
   "metadata": {},
   "outputs": [
    {
     "name": "stdout",
     "output_type": "stream",
     "text": [
      "There are 4 commercial chains monitored.\n",
      "\n"
     ]
    }
   ],
   "source": [
    "print('There are {} commercial chains monitored.'.format(df['cadenaComercial'].nunique()) , end= \"\\n\\n\")"
   ]
  },
  {
   "cell_type": "markdown",
   "metadata": {},
   "source": [
    "## What are the top 10 monitored products by State?"
   ]
  },
  {
   "cell_type": "code",
   "execution_count": 24,
   "metadata": {},
   "outputs": [
    {
     "name": "stdout",
     "output_type": "stream",
     "text": [
      "The top 10 products for DISTRITO FEDERAL are:\n",
      "DETERGENTE P/ROPA          25\n",
      "LECHE ULTRAPASTEURIZADA    23\n",
      "REFRESCO                   22\n",
      "CHILES EN LATA             21\n",
      "MAYONESA                   20\n",
      "SHAMPOO                    18\n",
      "TELEVISORES                17\n",
      "GALLETAS DULCES            16\n",
      "JABON DE TOCADOR           16\n",
      "PAN DE CAJA                14\n",
      "\n",
      "The top 10 products for MÉXICO are:\n",
      "REFRESCO                   26\n",
      "DETERGENTE P/ROPA          24\n",
      "SHAMPOO                    19\n",
      "CHILES EN LATA             18\n",
      "TOALLA FEMENINA            17\n",
      "MAYONESA                   17\n",
      "LECHE ULTRAPASTEURIZADA    17\n",
      "YOGHURT                    15\n",
      "DESODORANTE                15\n",
      "TELEVISORES                15\n",
      "\n"
     ]
    }
   ],
   "source": [
    "for s in df['estado'].unique():\n",
    "    print('The top 10 products for {} are:'.format(s))\n",
    "    print(df.loc[df['estado'] == s].groupby(['producto'])['producto'].count().sort_values(ascending=False).head(10).to_string(header=False), end= \"\\n\\n\")"
   ]
  },
  {
   "cell_type": "markdown",
   "metadata": {},
   "source": [
    "## Which is the commercial chain with the highest number of monitored products?"
   ]
  },
  {
   "cell_type": "code",
   "execution_count": 25,
   "metadata": {},
   "outputs": [
    {
     "name": "stdout",
     "output_type": "stream",
     "text": [
      "The commercial chain with the highest number of monitored products is COMERCIAL MEXICANA with 310 products\n"
     ]
    }
   ],
   "source": [
    "cch = df.groupby(['cadenaComercial'])['producto'].nunique().sort_values(ascending=False).head(1)\n",
    "print('The commercial chain with the highest number of monitored products is {} with {} products'.format(cch.index.values[0], cch.values[0]))"
   ]
  },
  {
   "cell_type": "markdown",
   "metadata": {},
   "source": [
    "## Use the data to find an interesting fact."
   ]
  },
  {
   "cell_type": "code",
   "execution_count": 26,
   "metadata": {},
   "outputs": [
    {
     "name": "stdout",
     "output_type": "stream",
     "text": [
      "The commercial chain offering the most brands is COMERCIAL MEXICANA with 375 brands.\n",
      "The brand with most products is S/M with 115 products.\n",
      "We are monitoring 395 brands.\n"
     ]
    }
   ],
   "source": [
    "ccmb = df.groupby(['cadenaComercial'])['marca'].nunique().sort_values(ascending=False).head(1)\n",
    "print('The commercial chain offering the most brands is {} with {} brands.'.format(ccmb.index.values[0], ccmb.values[0]))\n",
    "\n",
    "bmp = df.groupby(['marca'])['producto'].nunique().sort_values(ascending=False).head(1)\n",
    "print('The brand with most products is {} with {} products.'.format(bmp.index.values[0], bmp.values[0]))\n",
    "\n",
    "print('We are monitoring {} brands.'.format(df['marca'].nunique()))"
   ]
  },
  {
   "cell_type": "markdown",
   "metadata": {},
   "source": [
    "## What are the lessons learned from this exercise?\n",
    "The main lesson of this project was to use the Pandas library, I had not worked with Pandas before, at first it was a little complex to understand the functions of this library, but once understood, it became easier and easier to use this library.\n",
    "\n",
    "So I can say that I was pleasantly surprised by the knowledge of Pandas, and surely it would have made my life easier in the past processing large volumes of data.\n",
    "\n",
    "## Can you identify other ways to approach this problem? Explain.\n",
    "In a less efficient way, I would have used functions, pure Python properties and some regular expressions. Specifically, commands such as \"open\" and \"read\" would be used.\n",
    "\n",
    "Another possible approach would have been to insert all the data into a MySQL or MSSQL type database and from there perform different database queries until the expected results were obtained. \n",
    "\n",
    "Needless to say, using Pandas is the best option by far. "
   ]
  }
 ],
 "metadata": {
  "interpreter": {
   "hash": "2f25e01961cef9a7dc744047fdabb03ed9c0f46d30f6f02c03ae5f34be4e3fd1"
  },
  "kernelspec": {
   "display_name": "Python 3.8.8 64-bit ('base': conda)",
   "name": "python3"
  },
  "language_info": {
   "codemirror_mode": {
    "name": "ipython",
    "version": 3
   },
   "file_extension": ".py",
   "mimetype": "text/x-python",
   "name": "python",
   "nbconvert_exporter": "python",
   "pygments_lexer": "ipython3",
   "version": "3.8.8"
  }
 },
 "nbformat": 4,
 "nbformat_minor": 2
}
